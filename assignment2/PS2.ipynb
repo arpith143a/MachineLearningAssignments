{
 "cells": [
  {
   "cell_type": "markdown",
   "metadata": {},
   "source": [
    "# PS2: Logistic regression\n",
    "\n",
    "In this problem set, you will experiment with binary classification using logistic regression.\n",
    "\n",
    "To start with, let's load the \"digits\" data set from scikit-learn:"
   ]
  },
  {
   "cell_type": "code",
   "execution_count": 2,
   "metadata": {},
   "outputs": [
    {
     "name": "stdout",
     "output_type": "stream",
     "text": [
      "(360, 64)\n"
     ]
    },
    {
     "data": {
      "text/plain": [
       "<matplotlib.figure.Figure at 0x7efefb018fd0>"
      ]
     },
     "metadata": {},
     "output_type": "display_data"
    },
    {
     "data": {
      "text/plain": [
       "<matplotlib.figure.Figure at 0x7efeffe7c400>"
      ]
     },
     "metadata": {},
     "output_type": "display_data"
    }
   ],
   "source": [
    "import sklearn\n",
    "import numpy\n",
    "from sklearn.datasets import load_digits\n",
    "\n",
    "digits = load_digits(2)  # Load just the first two classes, 0 and 1\n",
    "#print(digits.DESCR)\n",
    "print(digits.data.shape) # (360, 64)\n",
    "\n",
    "import matplotlib.pyplot as plt \n",
    "plt.gray()\n",
    "plt.matshow(digits.images[0])\n",
    "plt.show()"
   ]
  },
  {
   "cell_type": "markdown",
   "metadata": {},
   "source": [
    "Next, let's gather an equal number of 0's and 1's:"
   ]
  },
  {
   "cell_type": "code",
   "execution_count": 3,
   "metadata": {},
   "outputs": [
    {
     "name": "stdout",
     "output_type": "stream",
     "text": [
      "(178, 64)\n",
      "(178, 64)\n"
     ]
    }
   ],
   "source": [
    "zeros = digits.data[digits.target==0,:]\n",
    "ones = digits.data[digits.target==1,:]\n",
    "ones = ones[0:178,:]\n",
    "\n",
    "print(zeros.shape)\n",
    "print(ones.shape)"
   ]
  },
  {
   "cell_type": "markdown",
   "metadata": {},
   "source": [
    "## Question 1\n",
    "\n",
    "Write Python code to create a matrix and vector X_train, y_train containing the first 148 records from each set and X_test, y_test containing the remaining 30 records from each set."
   ]
  },
  {
   "cell_type": "code",
   "execution_count": 4,
   "metadata": {},
   "outputs": [
    {
     "name": "stdout",
     "output_type": "stream",
     "text": [
      "X_train: (296, 65)\n",
      "y_train: (296, 1)\n",
      "X_test: (60, 65)\n",
      "y_test: (60, 1)\n"
     ]
    }
   ],
   "source": [
    "zero_train = zeros[0:148,:]\n",
    "one_train = ones[0:148,:]\n",
    "\n",
    "zero_test = zeros[148:,:]\n",
    "one_test = ones[148:,:]\n",
    "\n",
    "X_train = numpy.concatenate([zero_train, one_train])\n",
    "X_train = numpy.concatenate([numpy.matrix(numpy.ones(296)).transpose(), X_train],1)\n",
    "\n",
    "y_train = numpy.matrix(numpy.concatenate([numpy.zeros(148), numpy.ones(148)])).transpose()\n",
    "\n",
    "X_test = numpy.concatenate([zero_test, one_test])\n",
    "X_test = numpy.concatenate([numpy.matrix(numpy.ones(60)).transpose(), X_test],1)\n",
    "\n",
    "y_test = numpy.matrix(numpy.concatenate([numpy.zeros(30), numpy.ones(30)])).transpose()\n",
    "\n",
    "print(\"X_train:\", X_train.shape)\n",
    "print(\"y_train:\", y_train.shape)\n",
    "print(\"X_test:\", X_test.shape)\n",
    "print(\"y_test:\", y_test.shape)"
   ]
  },
  {
   "cell_type": "markdown",
   "metadata": {},
   "source": [
    "## Question 2\n",
    "\n",
    "The parameter vector $\\theta$ consists of an intercept $\\theta_0$ and 64 weights $\\theta_1 \\ldots \\theta_{64}$ for each of the pixels in the input image. Initialize $\\theta$ to a random normal 0-mean vector, then perform 20 iterations of stochastic gradient descent. On each iteration through the data set, you should randomize the order of presentation of the inputs. Experiment with different initial weights and different values for the learning rate, and plot the classification accuracy and log likelihood on the test and train sets as a function of iteration."
   ]
  },
  {
   "cell_type": "code",
   "execution_count": 5,
   "metadata": {},
   "outputs": [
    {
     "name": "stdout",
     "output_type": "stream",
     "text": [
      "Iter 0: train accuracy 0.79 test accuracy 0.78\n",
      "Iter 1: train accuracy 0.92 test accuracy 0.83\n",
      "Iter 2: train accuracy 0.95 test accuracy 0.83\n",
      "Iter 3: train accuracy 0.97 test accuracy 0.85\n",
      "Iter 4: train accuracy 0.97 test accuracy 0.85\n",
      "Iter 5: train accuracy 0.97 test accuracy 0.85\n",
      "Iter 6: train accuracy 0.98 test accuracy 0.85\n",
      "Iter 7: train accuracy 0.98 test accuracy 0.85\n",
      "Iter 8: train accuracy 0.98 test accuracy 0.85\n",
      "Iter 9: train accuracy 0.98 test accuracy 0.87\n",
      "Iter 10: train accuracy 0.99 test accuracy 0.85\n",
      "Iter 11: train accuracy 0.98 test accuracy 0.85\n",
      "Iter 12: train accuracy 0.99 test accuracy 0.85\n",
      "Iter 13: train accuracy 0.99 test accuracy 0.87\n",
      "Iter 14: train accuracy 0.99 test accuracy 0.87\n",
      "Iter 15: train accuracy 0.99 test accuracy 0.88\n",
      "Iter 16: train accuracy 1.00 test accuracy 0.88\n",
      "Iter 17: train accuracy 1.00 test accuracy 0.88\n",
      "Iter 18: train accuracy 1.00 test accuracy 0.88\n",
      "Iter 19: train accuracy 1.00 test accuracy 0.88\n"
     ]
    },
    {
     "data": {
      "image/png": "[encoded data removed]",
      "text/plain": [
       "<matplotlib.figure.Figure at 0x7efef2fc73c8>"
      ]
     },
     "metadata": {},
     "output_type": "display_data"
    },
    {
     "name": "stdout",
     "output_type": "stream",
     "text": [
      "red: train\n",
      "green: test\n"
     ]
    },
    {
     "data": {
      "image/png": "[encoded data removed]",
      "text/plain": [
       "<matplotlib.figure.Figure at 0x7efef2f8ee48>"
      ]
     },
     "metadata": {},
     "output_type": "display_data"
    },
    {
     "name": "stdout",
     "output_type": "stream",
     "text": [
      "red: train\n",
      "green: test\n"
     ]
    }
   ],
   "source": [
    "theta = numpy.matrix(numpy.random.normal(0, 1, (65,1))).transpose()\n",
    "alpha = 0.001\n",
    "train_acc = numpy.zeros(20)\n",
    "test_acc = numpy.zeros(20)\n",
    "log_likelihood_train = numpy.zeros(20)\n",
    "log_likelihood_test = numpy.zeros(20)\n",
    "\n",
    "def h(theta, x):\n",
    "    thresholdedExp = numpy.exp(-numpy.dot(theta, x))\n",
    "    thresholdedExp[thresholdedExp<1e-6] = 1e-6\n",
    "    ret = 1/(1+thresholdedExp)\n",
    "    return ret\n",
    "\n",
    "for iter in range(0,20):\n",
    "    ### Training #################################################################\n",
    "    order = numpy.random.permutation(range(0,296))\n",
    "    num_corr = 0\n",
    "    \n",
    "    l = 0.0;\n",
    "    log_likelihood_elements = []\n",
    "    for pattern in range(0,len(y_train)):\n",
    "        i = order[pattern]\n",
    "        x = X_train[i,:]\n",
    "        y = y_train[i]\n",
    "        y_pred = h(theta, x.transpose())\n",
    "        if (1 == float(y) and  y_pred >= 0.5) or (0 == float(y) and y_pred < 0.5):\n",
    "            num_corr += 1\n",
    "        theta = theta + alpha * (y - y_pred) * x\n",
    "        \n",
    "        l = float(y*numpy.log(y_pred) + (1 - y)*numpy.log(1-y_pred))\n",
    "        log_likelihood_elements.append(l)\n",
    "        \n",
    "    # Calculate accuracy over train set\n",
    "    train_acc[iter] = num_corr / 296\n",
    "    \n",
    "    # Calculate log likelyhood for train set\n",
    "    log_likelihood_train[iter] = (numpy.sum(log_likelihood_elements))\n",
    "   \n",
    "    ### Testing ##################################################################\n",
    "    m = len(y_test)\n",
    "    num_corr = 0\n",
    "    l = 0.0;\n",
    "    log_likelihood_elements = []\n",
    "    for i in range(0, m):\n",
    "        x = X_test[i,:]\n",
    "        y = y_test[i]\n",
    "        y_pred = h(theta, x.transpose())\n",
    "        if (1 == float(y) and  y_pred >= 0.5) or (0 == float(y) and y_pred < 0.5):\n",
    "            num_corr += 1\n",
    "                \n",
    "        l = float(y*numpy.log(y_pred) + (1 - y)*numpy.log(1-y_pred))\n",
    "        log_likelihood_elements.append(l)\n",
    "    # Calculate accuracy over test set\n",
    "    test_acc[iter] = num_corr / 60\n",
    "    \n",
    "    # Calculate log likelyhood for train set\n",
    "    log_likelihood_test[iter] = (numpy.sum(log_likelihood_elements))\n",
    "    \n",
    "    ### Print accuracy\n",
    "    print('Iter %d: train accuracy %.2f test accuracy %.2f' % (iter, train_acc[iter], test_acc[iter]))\n",
    "\n",
    "# Plot training and test accuracy as a function of iteration\n",
    "plt.plot(range(20), train_acc,'red')\n",
    "plt.plot(range(20), test_acc, 'green')\n",
    "plt.xlabel(\"iterations\")\n",
    "plt.ylabel('accuracy')\n",
    "plt.show()\n",
    "print(\"red: train\\ngreen: test\")\n",
    "\n",
    "# Plot training and test log likelihood as a function of iteration\n",
    "plt.plot(range(20), log_likelihood_train,'red')\n",
    "plt.plot(range(20), log_likelihood_test,'green')\n",
    "plt.xlabel(\"iterations\")\n",
    "plt.ylabel('log likelihood')\n",
    "plt.show()\n",
    "print(\"red: train\\ngreen: test\")"
   ]
  },
  {
   "cell_type": "markdown",
   "metadata": {},
   "source": [
    "## Question 3\n",
    "\n",
    "Discuss your experiments with different initial weights and different learning rates and comment on whether you observed overfitting and underfitting in the experiment."
   ]
  },
  {
   "cell_type": "markdown",
   "metadata": {},
   "source": [
    "### Answer 3\n",
    "All experiments are done over 20 iterations with randomly distributed weights ($\\pmb{\\theta}$).\n",
    "\n",
    "With a learning rate of <b>0.001</b>, the training accuracy nearly always hits 100% while test accuracy usually ranges from 92% to 97%, but does reach the occasional 100%. The test accuracy also seems to peak and plateau at around 5 to 10 iterations, although some times it seems to oscillate around this range and stablizes at around 15 iterations.\n",
    "\n",
    "With a higher learning rate of <b>0.1</b>, the training accuracy is <b>always</b> hitting 100% accuracy and test accuracy rarely seems to not go under 97% and almost always hits 100%. Further more, both the training accuracy and testing accuracy are peaking and plateauing in only about 1 to 3 iterations. \n",
    "\n",
    "Overfitting and underfitting were not observed in either cases."
   ]
  },
  {
   "cell_type": "markdown",
   "metadata": {},
   "source": [
    "## Question 4\n",
    "\n",
    "In the Newton-Raphson method, rather than climbing the gradient of the log likelihood function, we jump to where $\\nabla_\\ell(\\theta)$ would be 0 if $\\nabla_\\ell(\\theta)$ was in fact a linear function.\n",
    "\n",
    "This requires computing the Hessian $$\\mathtt{H}_\\ell(\\theta) = \\begin{bmatrix} \\frac{\\partial^2}{\\partial\\theta_0\\partial\\theta_0}\\ell(\\theta) & \\cdots \\\\ \\vdots & \\ddots \\end{bmatrix} $$ of the log likelihood function and inverting it.\n",
    "\n",
    "Give an expression for $\\frac{\\partial^2}{\\partial\\theta_i\\partial\\theta_j}\\ell(\\theta)$ for logistic regression here:\n",
    "\n",
    "$\\frac{\\partial^2}{\\partial\\theta_i\\partial\\theta_j}\\ell(\\theta) = ...$\n",
    "\n",
    "To be invertible, $\\mathtt{H}_\\ell(\\theta)$ must be full rank. Under what conditions might this not be true?"
   ]
  },
  {
   "cell_type": "markdown",
   "metadata": {},
   "source": []
  },
  {
   "cell_type": "markdown",
   "metadata": {},
   "source": [
    "## Question 5\n",
    "\n",
    "Next, let's experiment with Newton's method. In the cell below, implement batch Newton update. Experiment with stopping criteria (log likelihood, accuracy) and try to get the best test set accuracy."
   ]
  },
  {
   "cell_type": "code",
   "execution_count": 7,
   "metadata": {
    "scrolled": false
   },
   "outputs": [
    {
     "name": "stdout",
     "output_type": "stream",
     "text": [
      "(65, 1)\n"
     ]
    },
    {
     "name": "stderr",
     "output_type": "stream",
     "text": [
      "/media/storage/college/ML/env/lib/python3.6/site-packages/ipykernel_launcher.py:9: RuntimeWarning: overflow encountered in exp\n",
      "  if __name__ == '__main__':\n"
     ]
    },
    {
     "name": "stdout",
     "output_type": "stream",
     "text": [
      "(65, 1)\n",
      "(65, 1)\n",
      "(65, 1)\n",
      "(65, 1)\n",
      "(65, 1)\n",
      "(65, 1)\n",
      "(65, 1)\n",
      "(65, 1)\n",
      "(65, 1)\n",
      "(65, 1)\n",
      "(65, 1)\n",
      "(65, 1)\n",
      "(65, 1)\n",
      "(65, 1)\n",
      "(65, 1)\n",
      "(65, 1)\n",
      "(65, 1)\n",
      "(65, 1)\n",
      "(65, 1)\n"
     ]
    },
    {
     "data": {
      "image/png": "[encoded data removed]",
      "text/plain": [
       "<matplotlib.figure.Figure at 0x7efef3044c50>"
      ]
     },
     "metadata": {},
     "output_type": "display_data"
    },
    {
     "name": "stdout",
     "output_type": "stream",
     "text": [
      "red: train\n",
      "green: test\n"
     ]
    },
    {
     "data": {
      "image/png": "[encoded data removed]",
      "text/plain": [
       "<matplotlib.figure.Figure at 0x7efef2e82e80>"
      ]
     },
     "metadata": {},
     "output_type": "display_data"
    },
    {
     "name": "stdout",
     "output_type": "stream",
     "text": [
      "red: train\n",
      "green: test\n"
     ]
    }
   ],
   "source": [
    "def hessian_inverse(theta, X):\n",
    "    m = len(X[:,0]) # size of data set\n",
    "    hessian = numpy.zeros(shape = (65, 65))\n",
    "    for i in range(0, m):\n",
    "        hessian += ( \n",
    "            float( h(theta, X[i,:].transpose()) * (1-h(theta, X[i,:].transpose())) )\n",
    "                * (X[i,:].transpose() * X[i,:])\n",
    "        )\n",
    "    hessianInverse = numpy.linalg.pinv(hessian)\n",
    "    return hessianInverse\n",
    "\n",
    "def log_likelihood(X, Y, y_guess):\n",
    "    y_guess[y_guess<1e-6] = 1e-6 #thresholding the y_guess values\n",
    "    term1 = float(Y.transpose() * numpy.log(y_guess))\n",
    "    term2 = float((1 - Y).transpose() * (numpy.log(1 - y_guess)))\n",
    "    return term1 + term2\n",
    "\n",
    "# Generate random initial theta's\n",
    "theta = numpy.matrix(numpy.random.normal(0, 1, (65,1)))\n",
    "\n",
    "train_ll = [] # log likelihood for training set\n",
    "test_ll = [] # log likelihood for testing set\n",
    "\n",
    "max_iterations = 20\n",
    "iterations = 0\n",
    "accuracy_train = []\n",
    "accuracy_test = []\n",
    "for i in range(0, max_iterations):\n",
    "    iterations += 1\n",
    "    ### Training ##########################################################\n",
    "    y_guess_train = h(theta.transpose(), X_train.transpose()).transpose()\n",
    "    error = (y_train - y_guess_train)\n",
    "    \n",
    "    # Update weights\n",
    "    gradient = (error.transpose()*X_train).transpose()\n",
    "    theta = theta - hessian_inverse(theta.transpose(), X_train) * gradient\n",
    "    print(gradient.shape)\n",
    "#     theta = theta - alpha*gradient\n",
    "     \n",
    "    ### Testing ###########################################################\n",
    "    y_guess_test = h(theta.transpose(), X_test.transpose()).transpose()\n",
    "    \n",
    "    ### Calculating Log-Likelihoods of test and train sets ################\n",
    "    train_ll.append(log_likelihood(X_train, y_train, y_guess_train))\n",
    "    test_ll.append(log_likelihood(X_test, y_test, y_guess_test))\n",
    "    \n",
    "    ### Calculating accuracy ##############################################\n",
    "    # Accuracy for Training set\n",
    "    correct_count = 0.0\n",
    "    guesses = numpy.array(y_guess_train)\n",
    "    guesses[guesses<0.5] = 0\n",
    "    guesses[guesses>=0.5] = 1\n",
    "    for j in range(m):\n",
    "        if guesses[j] == y_train[j]:\n",
    "            correct_count += 1\n",
    "    accuracy_train.append(correct_count / m)\n",
    "    \n",
    "    # Accuracy for Test set\n",
    "    correct_count = 0.0\n",
    "    guesses = numpy.array(y_guess_test)\n",
    "    guesses[guesses<0.5] = 0\n",
    "    guesses[guesses>=0.5] = 1\n",
    "    for j in range(m):\n",
    "        if guesses[j] == y_test[j]:\n",
    "            correct_count += 1\n",
    "    accuracy_test.append(correct_count / len(y_test))\n",
    "    \n",
    "    ### Stopping Criteria #################################################\n",
    "    if i > 1:\n",
    "        if (test_ll[i] < test_ll[i-1] and accuracy_test[i] >= 0.4):\n",
    "            iterations = iterations\n",
    "            train_ll = train_ll[0:iterations]\n",
    "            test_ll = test_ll[0:iterations]\n",
    "            break\n",
    "\n",
    "# Plot training cost as a function of iteration\n",
    "plt.plot(range(iterations), -numpy.array(train_ll)/len(train_ll),'red')\n",
    "plt.plot(range(iterations), -numpy.array(test_ll)/len(test_ll),'green')\n",
    "plt.xlabel(\"iterations\")\n",
    "plt.ylabel('cost')\n",
    "plt.show()\n",
    "print(\"red: train\\ngreen: test\")\n",
    "\n",
    "# Plot accuracy and iterations\n",
    "plt.plot(range(iterations), accuracy_train,'red')\n",
    "plt.plot(range(iterations), accuracy_test,'green')\n",
    "plt.xlabel(\"iterations\")\n",
    "plt.ylabel('accuracy')\n",
    "plt.show()\n",
    "print(\"red: train\\ngreen: test\")"
   ]
  },
  {
   "cell_type": "markdown",
   "metadata": {},
   "source": [
    "## Question 6\n",
    "\n",
    "Discuss your experiments and comment on overfitting and underfitting in the previous exercise."
   ]
  },
  {
   "cell_type": "markdown",
   "metadata": {},
   "source": [
    "### Answer 6\n",
    "All experiments are done over a maximum of 20 iterations and  with randomly distributed starting ($\\pmb{\\theta}$).\n",
    "A stopping criteria based on the test data accuracy, where we stop training when the test data accuracy starts dipping when it is over a certain threshold, is used.\n",
    "\n",
    "As the hessian we are getting is not invertable, we are useing Moore–Penrose inverse of the hessian for updating the weights.\n",
    "\n",
    "The accuracy is very low for the test data while that of the training data seems to be vary based on the initial values of the weights.\n",
    "\n",
    "The costs of both the traning and test data are high in almost all cases, which clearly shows that the data is being underfitted.\n",
    "\n",
    "Overfitting was not observed."
   ]
  },
  {
   "cell_type": "markdown",
   "metadata": {},
   "source": [
    "## Question 7\n",
    "\n",
    "You may get 100% test accuracy with some random initial weight vectors, but probably not every time. Do a brief analysis of the test set errors made by one of the classifiers you built. Do you notice any pattern to the errors?\n"
   ]
  },
  {
   "cell_type": "code",
   "execution_count": 556,
   "metadata": {},
   "outputs": [
    {
     "name": "stdout",
     "output_type": "stream",
     "text": [
      "[[0. 0.]\n",
      " [0. 0.]\n",
      " [0. 0.]\n",
      " [0. 0.]\n",
      " [0. 0.]\n",
      " [0. 0.]\n",
      " [0. 0.]\n",
      " [0. 0.]\n",
      " [0. 0.]\n",
      " [0. 1.]\n",
      " [0. 0.]\n",
      " [0. 0.]\n",
      " [0. 0.]\n",
      " [0. 0.]\n",
      " [0. 1.]\n",
      " [0. 0.]\n",
      " [0. 0.]\n",
      " [0. 1.]\n",
      " [0. 0.]\n",
      " [0. 1.]\n",
      " [0. 1.]\n",
      " [0. 0.]\n",
      " [0. 0.]\n",
      " [0. 1.]\n",
      " [0. 0.]\n",
      " [0. 0.]\n",
      " [0. 0.]\n",
      " [0. 0.]\n",
      " [0. 0.]\n",
      " [0. 0.]\n",
      " [1. 1.]\n",
      " [1. 1.]\n",
      " [1. 1.]\n",
      " [1. 1.]\n",
      " [1. 1.]\n",
      " [1. 0.]\n",
      " [1. 0.]\n",
      " [1. 0.]\n",
      " [1. 0.]\n",
      " [1. 0.]\n",
      " [1. 0.]\n",
      " [1. 0.]\n",
      " [1. 0.]\n",
      " [1. 0.]\n",
      " [1. 0.]\n",
      " [1. 0.]\n",
      " [1. 0.]\n",
      " [1. 0.]\n",
      " [1. 0.]\n",
      " [1. 0.]\n",
      " [1. 0.]\n",
      " [1. 0.]\n",
      " [1. 0.]\n",
      " [1. 0.]\n",
      " [1. 0.]\n",
      " [1. 0.]\n",
      " [1. 0.]\n",
      " [1. 0.]\n",
      " [1. 1.]\n",
      " [1. 0.]]\n"
     ]
    }
   ],
   "source": [
    "### Answer 7\n",
    "print(numpy.concatenate([y_test, guesses],axis=1))"
   ]
  }
 ],
 "metadata": {
  "kernelspec": {
   "display_name": "Python 3",
   "language": "python",
   "name": "python3"
  },
  "language_info": {
   "codemirror_mode": {
    "name": "ipython",
    "version": 3
   },
   "file_extension": ".py",
   "mimetype": "text/x-python",
   "name": "python",
   "nbconvert_exporter": "python",
   "pygments_lexer": "ipython3",
   "version": "3.6.4"
  }
 },
 "nbformat": 4,
 "nbformat_minor": 2
}
