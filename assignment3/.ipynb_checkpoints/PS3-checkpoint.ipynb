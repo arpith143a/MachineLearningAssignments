{
 "cells": [
  {
   "cell_type": "markdown",
   "metadata": {},
   "source": [
    "# PS3: Deep learning\n",
    "\n",
    "In this problem set, you will experiment with fully-connected neural networks.\n",
    "\n",
    "To start with, let's load the \"breast cancer\" data set from scikit-learn:"
   ]
  },
  {
   "cell_type": "code",
   "execution_count": 74,
   "metadata": {},
   "outputs": [],
   "source": [
    "import numpy as np\n",
    "from sklearn.datasets import load_breast_cancer\n",
    "import matplotlib.pyplot as plt\n",
    "\n",
    "data = load_breast_cancer()\n",
    "y = np.matrix(data.target).T\n",
    "X = np.matrix(data.data)\n",
    "M = X.shape[0]\n",
    "N = X.shape[1]\n",
    "\n",
    "# Normalize each input feature\n",
    "\n",
    "def normalize(X):\n",
    "    M = X.shape[0]\n",
    "    XX = X - np.tile(np.mean(X,0),[M,1])\n",
    "    XX = np.divide(XX, np.tile(np.std(XX,0),[M,1]))\n",
    "    return XX\n",
    "\n",
    "XX = normalize(X)"
   ]
  },
  {
   "cell_type": "code",
   "execution_count": null,
   "metadata": {},
   "outputs": [],
   "source": []
  },
  {
   "cell_type": "markdown",
   "metadata": {},
   "source": [
    "Next, let's represent a fully-connected neural network by two arrays W and b containing the weights and biases for each layer."
   ]
  },
  {
   "cell_type": "code",
   "execution_count": 209,
   "metadata": {},
   "outputs": [],
   "source": [
    "h = 5\n",
    "W = [[], np.random.normal(0,0.1,[N,h]), np.random.normal(0,0.1,[h,1])]\n",
    "b = [[], np.random.normal(0,0.1,[h,1]), np.random.normal(0,0.1,[1,1])]\n",
    "L = len(W)-1\n",
    "\n",
    "def act(z):\n",
    "    return 1/(1+np.exp(-z))\n",
    "\n",
    "def actder(z):\n",
    "    az = act(z)\n",
    "    prod = np.multiply(az,1-az)\n",
    "    return prod\n",
    "\n",
    "def ff(x,W,b):\n",
    "    L = len(W)-1\n",
    "    a = x\n",
    "    for l in range(1,L+1):\n",
    "        z = W[l].T*a+b[l]\n",
    "        a = act(z)\n",
    "    return a\n",
    "\n",
    "def loss(y,yhat):\n",
    "    return np.sum(-(np.multiply((1-y), np.log(1-yhat)) + np.multiply(y, np.log(yhat))), axis = 0)"
   ]
  },
  {
   "cell_type": "markdown",
   "metadata": {},
   "source": [
    "## Question 1\n",
    "\n",
    "Write Python code to separate $\\texttt{X},\\texttt{y}$ randomly into a training set containing 80% of the data and a validation set consisting of the remaining 20% of the data."
   ]
  },
  {
   "cell_type": "code",
   "execution_count": 76,
   "metadata": {},
   "outputs": [],
   "source": [
    "# Code goes here\n",
    "X_train = XX[:455]\n",
    "y_train = y[:455]\n",
    "X_test = XX[455:]\n",
    "y_test = y[455:]"
   ]
  },
  {
   "cell_type": "markdown",
   "metadata": {},
   "source": [
    "## Question 2\n",
    "\n",
    "Beginning with the training code we wrote together in class, write Python code to execute backpropagation with mini-batch size 1 on the training set, and plot the training loss and validation loss as a function of training iteration. Show the plot in this sheet."
   ]
  },
  {
   "cell_type": "code",
   "execution_count": 189,
   "metadata": {},
   "outputs": [],
   "source": [
    "class NN(object):\n",
    "    def __init__(self, X, y, no_of_units = [1, 1], no_of_layers=2, use_relu = False, threshold_exp = False):\n",
    "        \"\"\"\n",
    "        self.X: training set input features\n",
    "        self.y: training set output for corresponding features\n",
    "        self.no_of_units: list of number of units in each layer\n",
    "        \"\"\"\n",
    "        super(NN, self).__init__()\n",
    "        self.X = X\n",
    "        self.y = y\n",
    "        self.no_of_units = no_of_units\n",
    "        self.use_relu = use_relu\n",
    "        self.threshold_exp = threshold_exp\n",
    "        N = X.shape[1]\n",
    "        \n",
    "        self.W = [[]]\n",
    "        self.b = [[]]\n",
    "        for i in range(0, no_of_layers-1):\n",
    "            self.W.append(np.random.normal(0, 0.1, [no_of_units[i], no_of_units[i+1]]))\n",
    "            self.b.append(np.random.normal(0, 0.1, [no_of_units[i+1], 1]))\n",
    "        \n",
    "        self.is_trained = False;\n",
    "\n",
    "    def _sigmoid(self, z):\n",
    "        \"\"\"\n",
    "        Activation Function\n",
    "        \"\"\"\n",
    "        exp = np.exp(-z)\n",
    "        if self.threshold_exp:\n",
    "            exp[exp<1e-6] = 1e-6\n",
    "        return 1/(1+exp)\n",
    "\n",
    "    def _sigmoid_der(self, z):\n",
    "        \"\"\"\n",
    "        derivative of activation function\n",
    "        \"\"\"\n",
    "        az = self._sigmoid(z)\n",
    "        prod = np.multiply(az,1-az)\n",
    "        return prod\n",
    "    \n",
    "    def _relu(self, z):\n",
    "        z[z<0] = 0\n",
    "        return z\n",
    "        \n",
    "    def _relu_der(self, z):\n",
    "        z[z<0] = 0\n",
    "        z[z>0] = 1\n",
    "        return z\n",
    "        \n",
    "    def _validate(self, X, y, to_print=False):\n",
    "        M = X.shape[0]\n",
    "        N = X.shape[1]\n",
    "        L = len(self.W)-1\n",
    "        total_loss = 0\n",
    "        for i in range(0, M):\n",
    "            x_this = X[i, :].T\n",
    "            y_this = y[i, 0]\n",
    "            \n",
    "            # Feed Forward\n",
    "            a = [x_this]\n",
    "            z = [[]]\n",
    "            for l in range(1, L+1):\n",
    "                z.append(self.W[l].T*a[l-1]+self.b[l])\n",
    "                if self.use_relu and l < L:\n",
    "                    a.append(self._relu(z[l]))\n",
    "                else:\n",
    "                    a.append(self._sigmoid(z[l]))\n",
    "                \n",
    "            total_loss += loss(y_this,a[L][0,0])\n",
    "        if to_print:\n",
    "            print(\"Validation loss: %f\" % (total_loss))\n",
    "        return total_loss\n",
    "\n",
    "    def train(self, alpha=0.01, max_iter=1000, X_validation = None, y_validation = None):\n",
    "        M = self.X.shape[0]\n",
    "        N = self.X.shape[1]\n",
    "        L = len(self.W)-1\n",
    "        \n",
    "        train_losses = []\n",
    "        validation_losses = []\n",
    "        \n",
    "        for iter in range(0, max_iter):\n",
    "            loss_this_iter = 0\n",
    "            for i in range(0, M):\n",
    "                x_this = self.X[i, :].T\n",
    "                y_this = self.y[i, 0]\n",
    "                \n",
    "                # Feed Forward\n",
    "                a = [x_this]\n",
    "                z = [[]]\n",
    "                delta = [[]]\n",
    "                dW = [[]]\n",
    "                db = [[]]\n",
    "                for l in range(1, L+1):\n",
    "                    z.append(self.W[l].T*a[l-1]+self.b[l])\n",
    "                    if self.use_relu and l < L:\n",
    "                        a.append(self._relu(z[l]))\n",
    "                    else:\n",
    "                        a.append(self._sigmoid(z[l]))\n",
    "                    # Just to give arrays the right shape for the backprop step\n",
    "                    delta.append([]); dW.append([]); db.append([])\n",
    "                    \n",
    "                loss_this_pattern = loss(y_this,a[L][0,0])\n",
    "                loss_this_iter = loss_this_iter + loss_this_pattern\n",
    "                \n",
    "                # Back propogation\n",
    "                delta[L] = a[L] - y_this\n",
    "                for l in range(L,0,-1):\n",
    "                    db[l] = delta[l].copy()\n",
    "                    dW[l] = a[l-1] * delta[l].T\n",
    "                    if l > 1:\n",
    "                        if l != L and self.use_relu:\n",
    "                            delta[l-1] = np.multiply(self.W[l], self._relu_der(z[l-1])) * delta[l]\n",
    "                        else:\n",
    "                            delta[l-1] = np.multiply(self.W[l], self._sigmoid_der(z[l-1])) * delta[l]\n",
    "                            \n",
    "                            \n",
    "                # Update weights and biases\n",
    "                for l in range(1,L+1):            \n",
    "                    self.W[l] = self.W[l] - alpha * dW[l]\n",
    "                    self.b[l] = self.b[l] - alpha * db[l]\n",
    "                # Validation\n",
    "            test_loss = 0\n",
    "            if (X_validation is not None) and (y_validation is not None):\n",
    "                test_loss = self._validate(X_validation, y_validation)\n",
    "#             print('Iteration %d loss %f %f' % (iter, loss_this_iter, test_loss))\n",
    "            train_losses.append(loss_this_iter)\n",
    "            validation_losses.append(test_loss)\n",
    "        \n",
    "        self.is_trained = True\n",
    "        return train_losses, validation_losses"
   ]
  },
  {
   "cell_type": "code",
   "execution_count": 192,
   "metadata": {},
   "outputs": [
    {
     "name": "stdout",
     "output_type": "stream",
     "text": [
      "Final train loss: 16.531103892522395\n",
      "Final validation loss: 7.849534071433215\n"
     ]
    },
    {
     "data": {
      "image/png": "[encoded data removed]",
      "text/plain": [
       "<matplotlib.figure.Figure at 0x7f4d35745a90>"
      ]
     },
     "metadata": {},
     "output_type": "display_data"
    }
   ],
   "source": [
    "iterations = 200\n",
    "obj = NN(X_train,\n",
    "         y_train,\n",
    "         no_of_units=[X_train.shape[1], 10, y_train.shape[1]],\n",
    "         no_of_layers=3)\n",
    "train_losses, validation_losses = obj.train(max_iter=iterations,\n",
    "                                            X_validation=X_test,\n",
    "                                            y_validation=y_test,\n",
    "                                            alpha=0.01)\n",
    "print(\"Final train loss:\", train_losses[-1])\n",
    "print(\"Final validation loss:\", validation_losses[-1])\n",
    "# Plot iterations vs loss graph\n",
    "plt.plot(range(iterations), train_losses)\n",
    "plt.plot(range(iterations), validation_losses)\n",
    "\n",
    "plt.xlabel(\"Iterations\")\n",
    "plt.ylabel(\"Loss\")\n",
    "\n",
    "plt.show()"
   ]
  },
  {
   "cell_type": "markdown",
   "metadata": {},
   "source": [
    "## Question 3\n",
    "\n",
    "Perform several experiments with different numbers of layers and different numbers of hidden units. Demonstrate the phenomenon of overtraining, make a table showing the training and validation set performance of each of your models, and make a recommendation about which model is best based on validation set performance."
   ]
  },
  {
   "cell_type": "code",
   "execution_count": 196,
   "metadata": {},
   "outputs": [
    {
     "name": "stdout",
     "output_type": "stream",
     "text": [
      "Final train loss: 0.29080229003640395\n",
      "Final validation loss: 9.538345146287453\n"
     ]
    },
    {
     "data": {
      "image/png": "[encoded data removed]",
      "text/plain": [
       "<matplotlib.figure.Figure at 0x7f4d35773780>"
      ]
     },
     "metadata": {},
     "output_type": "display_data"
    }
   ],
   "source": [
    "############## over training #############################\n",
    "iterations = 1000\n",
    "overFittingNN = NN(X_train, y_train,\n",
    "                   no_of_units=[X_train.shape[1],100, 50, y_train.shape[1]],\n",
    "                   no_of_layers=4)\n",
    "train_losses, validation_losses = overFittingNN.train(max_iter=iterations,\n",
    "                                                      X_validation=X_test,\n",
    "                                                      y_validation=y_test,\n",
    "                                                      alpha=0.01)\n",
    "print(\"Final train loss:\", train_losses[-1])\n",
    "print(\"Final validation loss:\", validation_losses[-1])\n",
    "# Plot iterations vs loss graph\n",
    "plt.plot(range(iterations), train_losses)\n",
    "plt.plot(range(iterations), validation_losses)\n",
    "\n",
    "plt.xlabel(\"Iterations\")\n",
    "plt.ylabel(\"Loss\")\n",
    "\n",
    "plt.show()"
   ]
  },
  {
   "cell_type": "code",
   "execution_count": 208,
   "metadata": {},
   "outputs": [
    {
     "name": "stdout",
     "output_type": "stream",
     "text": [
      "Final train loss: 5.158314275577264\n",
      "Final validation loss: 7.1319545994074645\n"
     ]
    },
    {
     "data": {
      "image/png": "[encoded data removed]",
      "text/plain": [
       "<matplotlib.figure.Figure at 0x7f4d35818e10>"
      ]
     },
     "metadata": {},
     "output_type": "display_data"
    }
   ],
   "source": [
    "##############  Good Model #############################\n",
    "iterations = 500\n",
    "goodNN = NN(X_train, y_train,\n",
    "                   no_of_units=[X_train.shape[1], 30,y_train.shape[1]],\n",
    "                   no_of_layers=3)\n",
    "train_losses, validation_losses = goodNN.train(max_iter=iterations,\n",
    "                                                X_validation=X_test,\n",
    "                                                y_validation=y_test,\n",
    "                                                alpha=0.01)\n",
    "print(\"Final train loss:\", train_losses[-1])\n",
    "print(\"Final validation loss:\", validation_losses[-1])\n",
    "# Plot iterations vs loss graph\n",
    "plt.plot(range(iterations), train_losses)\n",
    "plt.plot(range(iterations), validation_losses)\n",
    "\n",
    "plt.xlabel(\"Iterations\")\n",
    "plt.ylabel(\"Loss\")\n",
    "\n",
    "plt.show()"
   ]
  },
  {
   "cell_type": "markdown",
   "metadata": {},
   "source": [
    "*Results table and discussion goes here.*\n",
    "<table>\n",
    "    <tr>\n",
    "        <th>layers/units</th>\n",
    "        <th>2</th>\n",
    "        <th>4</th>\n",
    "        <th>5</th>\n",
    "        <th>8</th>\n",
    "    </tr>\n",
    "    <tr>\n",
    "        <th>2</th>\n",
    "        <td>2</td>\n",
    "        <td>4</td>\n",
    "        <td>5</td>\n",
    "        <td>8</td>\n",
    "    </tr>    \n",
    "    <tr>\n",
    "        <th>3</th>\n",
    "        <td>2</td>\n",
    "        <td>4</td>\n",
    "        <td>5</td>\n",
    "        <td>8</td>\n",
    "    </tr>\n",
    "</table>"
   ]
  },
  {
   "cell_type": "markdown",
   "metadata": {},
   "source": [
    "## Question 4\n",
    "\n",
    "Modify the backpropagation procedure to use mini-batches of a few different sizes such as 10, 20, and 40. Take care that each mathematical operation is efficient (avoid any for loops over the examples in a mini-batch). Repeat your experiments and report the results. Do you observe any differences in terms of accuracy and number of iterations to converge?"
   ]
  },
  {
   "cell_type": "code",
   "execution_count": 227,
   "metadata": {
    "scrolled": true
   },
   "outputs": [
    {
     "ename": "ValueError",
     "evalue": "shapes (5,20) and (1,1) not aligned: 20 (dim 1) != 1 (dim 0)",
     "output_type": "error",
     "traceback": [
      "\u001b[0;31m---------------------------------------------------------------------------\u001b[0m",
      "\u001b[0;31mValueError\u001b[0m                                Traceback (most recent call last)",
      "\u001b[0;32m<ipython-input-227-c29b29130325>\u001b[0m in \u001b[0;36m<module>\u001b[0;34m()\u001b[0m\n\u001b[1;32m    145\u001b[0m                                             \u001b[0my_validation\u001b[0m\u001b[0;34m=\u001b[0m\u001b[0my_test\u001b[0m\u001b[0;34m,\u001b[0m\u001b[0;34m\u001b[0m\u001b[0m\n\u001b[1;32m    146\u001b[0m                                             \u001b[0malpha\u001b[0m\u001b[0;34m=\u001b[0m\u001b[0;36m0.01\u001b[0m\u001b[0;34m,\u001b[0m\u001b[0;34m\u001b[0m\u001b[0m\n\u001b[0;32m--> 147\u001b[0;31m                                             batch_size = 20)\n\u001b[0m\u001b[1;32m    148\u001b[0m \u001b[0mprint\u001b[0m\u001b[0;34m(\u001b[0m\u001b[0;34m\"Final train loss:\"\u001b[0m\u001b[0;34m,\u001b[0m \u001b[0mtrain_losses\u001b[0m\u001b[0;34m[\u001b[0m\u001b[0;34m-\u001b[0m\u001b[0;36m1\u001b[0m\u001b[0;34m]\u001b[0m\u001b[0;34m)\u001b[0m\u001b[0;34m\u001b[0m\u001b[0m\n\u001b[1;32m    149\u001b[0m \u001b[0mprint\u001b[0m\u001b[0;34m(\u001b[0m\u001b[0;34m\"Final validation loss:\"\u001b[0m\u001b[0;34m,\u001b[0m \u001b[0mvalidation_losses\u001b[0m\u001b[0;34m[\u001b[0m\u001b[0;34m-\u001b[0m\u001b[0;36m1\u001b[0m\u001b[0;34m]\u001b[0m\u001b[0;34m)\u001b[0m\u001b[0;34m\u001b[0m\u001b[0m\n",
      "\u001b[0;32m<ipython-input-227-c29b29130325>\u001b[0m in \u001b[0;36mtrain\u001b[0;34m(self, alpha, max_iter, X_validation, y_validation, batch_size)\u001b[0m\n\u001b[1;32m    118\u001b[0m                             \u001b[0mdelta\u001b[0m\u001b[0;34m[\u001b[0m\u001b[0ml\u001b[0m\u001b[0;34m-\u001b[0m\u001b[0;36m1\u001b[0m\u001b[0;34m]\u001b[0m \u001b[0;34m=\u001b[0m \u001b[0mnp\u001b[0m\u001b[0;34m.\u001b[0m\u001b[0msum\u001b[0m\u001b[0;34m(\u001b[0m\u001b[0mnp\u001b[0m\u001b[0;34m.\u001b[0m\u001b[0mmultiply\u001b[0m\u001b[0;34m(\u001b[0m\u001b[0mself\u001b[0m\u001b[0;34m.\u001b[0m\u001b[0mW\u001b[0m\u001b[0;34m[\u001b[0m\u001b[0ml\u001b[0m\u001b[0;34m]\u001b[0m\u001b[0;34m,\u001b[0m \u001b[0mself\u001b[0m\u001b[0;34m.\u001b[0m\u001b[0m_relu_der\u001b[0m\u001b[0;34m(\u001b[0m\u001b[0mz\u001b[0m\u001b[0;34m[\u001b[0m\u001b[0ml\u001b[0m\u001b[0;34m-\u001b[0m\u001b[0;36m1\u001b[0m\u001b[0;34m]\u001b[0m\u001b[0;34m)\u001b[0m\u001b[0;34m)\u001b[0m \u001b[0;34m*\u001b[0m \u001b[0mdelta\u001b[0m\u001b[0;34m[\u001b[0m\u001b[0ml\u001b[0m\u001b[0;34m]\u001b[0m\u001b[0;34m,\u001b[0m \u001b[0maxis\u001b[0m\u001b[0;34m=\u001b[0m\u001b[0;36m1\u001b[0m\u001b[0;34m)\u001b[0m\u001b[0;34m\u001b[0m\u001b[0m\n\u001b[1;32m    119\u001b[0m                         \u001b[0;32melse\u001b[0m\u001b[0;34m:\u001b[0m\u001b[0;34m\u001b[0m\u001b[0m\n\u001b[0;32m--> 120\u001b[0;31m                             \u001b[0mdelta\u001b[0m\u001b[0;34m[\u001b[0m\u001b[0ml\u001b[0m\u001b[0;34m-\u001b[0m\u001b[0;36m1\u001b[0m\u001b[0;34m]\u001b[0m \u001b[0;34m=\u001b[0m \u001b[0mnp\u001b[0m\u001b[0;34m.\u001b[0m\u001b[0msum\u001b[0m\u001b[0;34m(\u001b[0m\u001b[0mnp\u001b[0m\u001b[0;34m.\u001b[0m\u001b[0mmultiply\u001b[0m\u001b[0;34m(\u001b[0m\u001b[0mself\u001b[0m\u001b[0;34m.\u001b[0m\u001b[0mW\u001b[0m\u001b[0;34m[\u001b[0m\u001b[0ml\u001b[0m\u001b[0;34m]\u001b[0m\u001b[0;34m,\u001b[0m \u001b[0mself\u001b[0m\u001b[0;34m.\u001b[0m\u001b[0m_sigmoid_der\u001b[0m\u001b[0;34m(\u001b[0m\u001b[0mz\u001b[0m\u001b[0;34m[\u001b[0m\u001b[0ml\u001b[0m\u001b[0;34m-\u001b[0m\u001b[0;36m1\u001b[0m\u001b[0;34m]\u001b[0m\u001b[0;34m)\u001b[0m\u001b[0;34m)\u001b[0m \u001b[0;34m*\u001b[0m \u001b[0mdelta\u001b[0m\u001b[0;34m[\u001b[0m\u001b[0ml\u001b[0m\u001b[0;34m]\u001b[0m\u001b[0;34m,\u001b[0m \u001b[0maxis\u001b[0m\u001b[0;34m=\u001b[0m\u001b[0;36m1\u001b[0m\u001b[0;34m)\u001b[0m\u001b[0;34m\u001b[0m\u001b[0m\n\u001b[0m\u001b[1;32m    121\u001b[0m                             \u001b[0mprint\u001b[0m\u001b[0;34m(\u001b[0m\u001b[0mdelta\u001b[0m\u001b[0;34m[\u001b[0m\u001b[0ml\u001b[0m\u001b[0;34m-\u001b[0m\u001b[0;36m1\u001b[0m\u001b[0;34m]\u001b[0m\u001b[0;34m.\u001b[0m\u001b[0mshape\u001b[0m\u001b[0;34m)\u001b[0m\u001b[0;34m\u001b[0m\u001b[0m\n\u001b[1;32m    122\u001b[0m \u001b[0;34m\u001b[0m\u001b[0m\n",
      "\u001b[0;32m/media/storage/college/ML/env/lib/python3.6/site-packages/numpy/matrixlib/defmatrix.py\u001b[0m in \u001b[0;36m__mul__\u001b[0;34m(self, other)\u001b[0m\n\u001b[1;32m    307\u001b[0m         \u001b[0;32mif\u001b[0m \u001b[0misinstance\u001b[0m\u001b[0;34m(\u001b[0m\u001b[0mother\u001b[0m\u001b[0;34m,\u001b[0m \u001b[0;34m(\u001b[0m\u001b[0mN\u001b[0m\u001b[0;34m.\u001b[0m\u001b[0mndarray\u001b[0m\u001b[0;34m,\u001b[0m \u001b[0mlist\u001b[0m\u001b[0;34m,\u001b[0m \u001b[0mtuple\u001b[0m\u001b[0;34m)\u001b[0m\u001b[0;34m)\u001b[0m \u001b[0;34m:\u001b[0m\u001b[0;34m\u001b[0m\u001b[0m\n\u001b[1;32m    308\u001b[0m             \u001b[0;31m# This promotes 1-D vectors to row vectors\u001b[0m\u001b[0;34m\u001b[0m\u001b[0;34m\u001b[0m\u001b[0m\n\u001b[0;32m--> 309\u001b[0;31m             \u001b[0;32mreturn\u001b[0m \u001b[0mN\u001b[0m\u001b[0;34m.\u001b[0m\u001b[0mdot\u001b[0m\u001b[0;34m(\u001b[0m\u001b[0mself\u001b[0m\u001b[0;34m,\u001b[0m \u001b[0masmatrix\u001b[0m\u001b[0;34m(\u001b[0m\u001b[0mother\u001b[0m\u001b[0;34m)\u001b[0m\u001b[0;34m)\u001b[0m\u001b[0;34m\u001b[0m\u001b[0m\n\u001b[0m\u001b[1;32m    310\u001b[0m         \u001b[0;32mif\u001b[0m \u001b[0misscalar\u001b[0m\u001b[0;34m(\u001b[0m\u001b[0mother\u001b[0m\u001b[0;34m)\u001b[0m \u001b[0;32mor\u001b[0m \u001b[0;32mnot\u001b[0m \u001b[0mhasattr\u001b[0m\u001b[0;34m(\u001b[0m\u001b[0mother\u001b[0m\u001b[0;34m,\u001b[0m \u001b[0;34m'__rmul__'\u001b[0m\u001b[0;34m)\u001b[0m \u001b[0;34m:\u001b[0m\u001b[0;34m\u001b[0m\u001b[0m\n\u001b[1;32m    311\u001b[0m             \u001b[0;32mreturn\u001b[0m \u001b[0mN\u001b[0m\u001b[0;34m.\u001b[0m\u001b[0mdot\u001b[0m\u001b[0;34m(\u001b[0m\u001b[0mself\u001b[0m\u001b[0;34m,\u001b[0m \u001b[0mother\u001b[0m\u001b[0;34m)\u001b[0m\u001b[0;34m\u001b[0m\u001b[0m\n",
      "\u001b[0;31mValueError\u001b[0m: shapes (5,20) and (1,1) not aligned: 20 (dim 1) != 1 (dim 0)"
     ]
    }
   ],
   "source": [
    "def loss(y,yhat):\n",
    "    return np.sum(-(np.multiply((1-y), np.log(1-yhat)) + np.multiply(y, np.log(yhat))))\n",
    "\n",
    "class NN_Mini_Batch(object):\n",
    "    def __init__(self, X, y, no_of_units = [1, 1], no_of_layers=2, use_relu = False, threshold_exp = False):\n",
    "        \"\"\"\n",
    "        self.X: training set input features\n",
    "        self.y: training set output for corresponding features\n",
    "        self.no_of_units: list of number of units in each layer\n",
    "        \"\"\"\n",
    "        super(NN_Mini_Batch, self).__init__()\n",
    "        self.X = X\n",
    "        self.y = y\n",
    "        self.no_of_units = no_of_units\n",
    "        self.use_relu = use_relu\n",
    "        self.threshold_exp = threshold_exp\n",
    "        N = X.shape[1]\n",
    "        \n",
    "        self.W = [[]]\n",
    "        self.b = [[]]\n",
    "        for i in range(0, no_of_layers-1):\n",
    "            self.W.append(np.random.normal(0, 0.1, [no_of_units[i], no_of_units[i+1]]))\n",
    "            self.b.append(np.random.normal(0, 0.1, [no_of_units[i+1], 1]))\n",
    "        \n",
    "        self.is_trained = False;\n",
    "\n",
    "    def _sigmoid(self, z):\n",
    "        \"\"\"\n",
    "        Activation Function\n",
    "        \"\"\"\n",
    "        exp = np.exp(-z)\n",
    "        if self.threshold_exp:\n",
    "            exp[exp<1e-6] = 1e-6\n",
    "        return 1/(1+exp)\n",
    "\n",
    "    def _sigmoid_der(self, z):\n",
    "        \"\"\"\n",
    "        derivative of activation function\n",
    "        \"\"\"\n",
    "        az = self._sigmoid(z)\n",
    "        prod = np.multiply(az,1-az)\n",
    "        return prod\n",
    "    \n",
    "    def _relu(self, z):\n",
    "        z[z<0] = 0\n",
    "        return z\n",
    "        \n",
    "    def _relu_der(self, z):\n",
    "        z[z<0] = 0\n",
    "        z[z>0] = 1\n",
    "        return z\n",
    "        \n",
    "    def _validate(self, X, y, to_print=False):\n",
    "        M = X.shape[0]\n",
    "        N = X.shape[1]\n",
    "        L = len(self.W)-1\n",
    "        total_loss = 0\n",
    "        for i in range(0, M):\n",
    "            x_this = X[i, :].T\n",
    "            y_this = y[i, 0]\n",
    "            \n",
    "            # Feed Forward\n",
    "            a = [x_this]\n",
    "            z = [[]]\n",
    "            for l in range(1, L+1):\n",
    "                z.append(self.W[l].T*a[l-1]+self.b[l])\n",
    "                if self.use_relu and l < L:\n",
    "                    a.append(self._relu(z[l]))\n",
    "                else:\n",
    "                    a.append(self._sigmoid(z[l]))\n",
    "                \n",
    "            total_loss += loss(y_this,a[L][0,0])\n",
    "        if to_print:\n",
    "            print(\"Validation loss: %f\" % (total_loss))\n",
    "        return total_loss\n",
    "\n",
    "    def train(self, alpha=0.01, max_iter=1000, X_validation = None, y_validation = None, batch_size = 1):\n",
    "        M = self.X.shape[0]\n",
    "        N = self.X.shape[1]\n",
    "        L = len(self.W)-1\n",
    "        \n",
    "        train_losses = []\n",
    "        validation_losses = []\n",
    "        \n",
    "        for iter in range(0, max_iter):\n",
    "            loss_this_iter = 0\n",
    "            \n",
    "            for i in range(0, int(M/batch_size)):\n",
    "                x_this = self.X[i:i+batch_size, :].T\n",
    "                y_this = self.y[i:i+batch_size, 0]\n",
    "                \n",
    "                # Feed Forward\n",
    "                a = [x_this]\n",
    "                z = [[]]\n",
    "                delta = [[]]\n",
    "                dW = [[]]\n",
    "                db = [[]]\n",
    "                for l in range(1, L+1):\n",
    "                    z.append(self.W[l].T*a[l-1]+self.b[l])\n",
    "                    if self.use_relu and l < L:\n",
    "                        a.append(self._relu(z[l]))\n",
    "                    else:\n",
    "                        a.append(self._sigmoid(z[l]))\n",
    "                    # Just to give arrays the right shape for the backprop step\n",
    "                    delta.append([]); dW.append([]); db.append([])\n",
    "                    \n",
    "                loss_this_pattern = loss(y_this,a[L].transpose())\n",
    "                loss_this_iter = loss_this_iter + loss_this_pattern\n",
    "                \n",
    "                # Back propogation\n",
    "                delta[L] = np.sum(a[L].transpose() - y_this, axis=0)\n",
    "                for l in range(L,0,-1):\n",
    "                    db[l] = delta[l].copy()\n",
    "                    dW[l] = np.sum(a[l-1],axis=1) * delta[l].transpose()\n",
    "                    if l > 1:\n",
    "#                         delta[l-1] = np.sum(np.multiply(actSigder(z[l-1]) , W[l] * delta[l]),axis=1)\n",
    "                        if l != L and self.use_relu:\n",
    "                            delta[l-1] = np.sum(np.multiply(self.W[l], self._relu_der(z[l-1])) * delta[l], axis=1)\n",
    "                        else:\n",
    "                            delta[l-1] = np.sum(np.multiply(self.W[l] * delta[l], self._sigmoid_der(z[l-1])), axis=1)\n",
    "                            print(delta[l-1].shape)\n",
    "                            \n",
    "                # Update weights and biases\n",
    "                for l in range(1,L+1):            \n",
    "                    self.W[l] = self.W[l] - alpha * dW[l]\n",
    "                    self.b[l] = self.b[l] - alpha * db[l]\n",
    "                # Validation\n",
    "            test_loss = 0\n",
    "            if (X_validation is not None) and (y_validation is not None):\n",
    "                test_loss = self._validate(X_validation, y_validation)\n",
    "#             print('Iteration %d loss %f %f' % (iter, loss_this_iter, test_loss))\n",
    "            train_losses.append(loss_this_iter)\n",
    "            validation_losses.append(test_loss)\n",
    "        \n",
    "        self.is_trained = True\n",
    "        return train_losses, validation_losses\n",
    "# Code goes here\n",
    "iterations = 200\n",
    "obj = NN_Mini_Batch(X_train, y_train,\n",
    "         no_of_units=[X_train.shape[1], 5, y_train.shape[1]],\n",
    "         no_of_layers=3,\n",
    "         use_relu=True)\n",
    "train_losses, validation_losses = obj.train(max_iter=iterations,\n",
    "                                            X_validation=X_test,\n",
    "                                            y_validation=y_test,\n",
    "                                            alpha=0.01,\n",
    "                                            batch_size = 20)\n",
    "print(\"Final train loss:\", train_losses[-1])\n",
    "print(\"Final validation loss:\", validation_losses[-1])\n",
    "# Plot iterations vs loss graph\n",
    "plt.plot(range(iterations), train_losses)\n",
    "plt.plot(range(iterations), validation_losses)\n",
    "\n",
    "plt.xlabel(\"Iterations\")\n",
    "plt.ylabel(\"Loss\")\n",
    "\n",
    "plt.show()"
   ]
  },
  {
   "cell_type": "markdown",
   "metadata": {},
   "source": [
    "*Results table and discussion goes here.*"
   ]
  },
  {
   "cell_type": "markdown",
   "metadata": {},
   "source": [
    "## Question 5\n",
    "\n",
    "Modify the model to use the ReLU activation function in the hidden layers rather than logistic sigmoid. Repeat your experiments and report the results. Do you observe any differences in terms of accuracy and number of iterations to converge?"
   ]
  },
  {
   "cell_type": "code",
   "execution_count": 194,
   "metadata": {},
   "outputs": [
    {
     "name": "stdout",
     "output_type": "stream",
     "text": [
      "Final train loss: 43.13356094571084\n",
      "Final validation loss: 18.676535935958682\n"
     ]
    },
    {
     "data": {
      "image/png": "[encoded data removed]",
      "text/plain": [
       "<matplotlib.figure.Figure at 0x7f4d3576c710>"
      ]
     },
     "metadata": {},
     "output_type": "display_data"
    }
   ],
   "source": [
    "# Code goes here\n",
    "iterations = 200\n",
    "obj = NN(X_train, y_train,\n",
    "         no_of_units=[X_train.shape[1], 5, y_train.shape[1]],\n",
    "         no_of_layers=3,\n",
    "         use_relu=True)\n",
    "train_losses, validation_losses = obj.train(max_iter=iterations,\n",
    "                                            X_validation=X_test,\n",
    "                                            y_validation=y_test,\n",
    "                                            alpha=0.01)\n",
    "print(\"Final train loss:\", train_losses[-1])\n",
    "print(\"Final validation loss:\", validation_losses[-1])\n",
    "# Plot iterations vs loss graph\n",
    "plt.plot(range(iterations), train_losses)\n",
    "plt.plot(range(iterations), validation_losses)\n",
    "\n",
    "plt.xlabel(\"Iterations\")\n",
    "plt.ylabel(\"Loss\")\n",
    "\n",
    "plt.show()"
   ]
  },
  {
   "cell_type": "markdown",
   "metadata": {},
   "source": [
    "*Results table and discussion goes here.*"
   ]
  }
 ],
 "metadata": {
  "kernelspec": {
   "display_name": "Python 3",
   "language": "python",
   "name": "python3"
  },
  "language_info": {
   "codemirror_mode": {
    "name": "ipython",
    "version": 3
   },
   "file_extension": ".py",
   "mimetype": "text/x-python",
   "name": "python",
   "nbconvert_exporter": "python",
   "pygments_lexer": "ipython3",
   "version": "3.6.4"
  }
 },
 "nbformat": 4,
 "nbformat_minor": 2
}
